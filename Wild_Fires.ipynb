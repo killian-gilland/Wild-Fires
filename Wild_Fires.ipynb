{
 "cells": [
  {
   "cell_type": "markdown",
   "id": "e348f337",
   "metadata": {},
   "source": [
    "# Wild Fires Project"
   ]
  },
  {
   "cell_type": "markdown",
   "id": "6d88d911",
   "metadata": {},
   "source": [
    "### Data Cleaning"
   ]
  },
  {
   "cell_type": "code",
   "execution_count": 119,
   "id": "6d227434",
   "metadata": {},
   "outputs": [],
   "source": [
    "\n",
    "import pandas as pd\n",
    "import datetime as dt\n",
    "import re\n",
    "\n",
    "def fct1(chemin, i):\n",
    "    df = pd.read_csv(chemin, skiprows = i, delimiter = \";\")\n",
    "    df.columns = df.columns.str.replace(' ', '_')\n",
    "    df.columns = df.columns.str.replace(\"'\", '_').astype(str)\n",
    "    df[\"Année\"] = df[\"Année\"].astype(\"Int64\")\n",
    "    df[\"Numéro\"] = df[\"Numéro\"].astype(\"Int64\")\n",
    "    df[\"Type_de_feu\"] = df[\"Type_de_feu\"].astype(\"Int64\")\n",
    "    df[\"Origine_de_l_alerte\"] = df[\"Origine_de_l_alerte\"].astype(\"Int64\")\n",
    "    df[\"Surface_parcourue_(m2)\"] = df[\"Surface_parcourue_(m2)\"].astype(\"Int64\")\n",
    "    df[\"Commune\"] = df[\"Commune\"].fillna(\"No Commune\")\n",
    "    df[\"Lieu-dit\"] = df[\"Lieu-dit\"].fillna(\"No Lieu-dit\")\n",
    "    df[\"Commune\"] = df[\"Commune\"].str.title()\n",
    "    df[\"Lieu-dit\"] = df[\"Lieu-dit\"].str.title()\n",
    "    date = []\n",
    "    heure = []\n",
    "    x = []\n",
    "    for i in range(len(df[\"Alerte\"])):\n",
    "        x.append(re.split(\"\\s\", str(df[\"Alerte\"][i])))\n",
    "    for i in range(len(x)):\n",
    "        date.append(x[i][0])\n",
    "        heure.append(x[i][1])\n",
    "    df = df.assign(date = date)\n",
    "    df = df.assign(heure = heure)\n",
    "    df = df.rename(columns = {'Surface_parcourue_(m2)':'Surface_parcourue'})\n",
    "    df[\"Surface_parcourue\"] = df[\"Surface_parcourue\"] / 10000\n",
    "    df = df.drop(\"Alerte\", axis=1)\n",
    "    df = df.drop(\"Numéro\", axis=1)\n",
    "    \n",
    "    return df"
   ]
  },
  {
   "cell_type": "code",
   "execution_count": 120,
   "id": "7b7b27bb",
   "metadata": {},
   "outputs": [],
   "source": [
    "df = fct1(\"C:/Users/33698/Documents/M2 EBDS/cours/data/liste_incendies_ du_12_08_2022.csv\", 2)"
   ]
  },
  {
   "cell_type": "code",
   "execution_count": 121,
   "id": "c0365d6d",
   "metadata": {},
   "outputs": [
    {
     "data": {
      "text/html": [
       "<div>\n",
       "<style scoped>\n",
       "    .dataframe tbody tr th:only-of-type {\n",
       "        vertical-align: middle;\n",
       "    }\n",
       "\n",
       "    .dataframe tbody tr th {\n",
       "        vertical-align: top;\n",
       "    }\n",
       "\n",
       "    .dataframe thead th {\n",
       "        text-align: right;\n",
       "    }\n",
       "</style>\n",
       "<table border=\"1\" class=\"dataframe\">\n",
       "  <thead>\n",
       "    <tr style=\"text-align: right;\">\n",
       "      <th></th>\n",
       "      <th>Année</th>\n",
       "      <th>Numéro</th>\n",
       "      <th>Type_de_feu</th>\n",
       "      <th>Département</th>\n",
       "      <th>Code_INSEE</th>\n",
       "      <th>Commune</th>\n",
       "      <th>Lieu-dit</th>\n",
       "      <th>Code_du_carreau_DFCI</th>\n",
       "      <th>Origine_de_l_alerte</th>\n",
       "      <th>Surface_parcourue</th>\n",
       "      <th>date</th>\n",
       "      <th>heure</th>\n",
       "    </tr>\n",
       "  </thead>\n",
       "  <tbody>\n",
       "    <tr>\n",
       "      <th>0</th>\n",
       "      <td>2022</td>\n",
       "      <td>5307</td>\n",
       "      <td>0</td>\n",
       "      <td>04</td>\n",
       "      <td>04152</td>\n",
       "      <td>Pierrevert</td>\n",
       "      <td>Avenue De La Milière</td>\n",
       "      <td>KD66H7</td>\n",
       "      <td>3</td>\n",
       "      <td>0.005</td>\n",
       "      <td>2022-08-11</td>\n",
       "      <td>05:42:00</td>\n",
       "    </tr>\n",
       "    <tr>\n",
       "      <th>1</th>\n",
       "      <td>2022</td>\n",
       "      <td>5277</td>\n",
       "      <td>0</td>\n",
       "      <td>06</td>\n",
       "      <td>06074</td>\n",
       "      <td>Lantosque</td>\n",
       "      <td>Saint Colomban</td>\n",
       "      <td>MD08A8</td>\n",
       "      <td>3</td>\n",
       "      <td>0.004</td>\n",
       "      <td>2022-08-10</td>\n",
       "      <td>15:02:00</td>\n",
       "    </tr>\n",
       "    <tr>\n",
       "      <th>2</th>\n",
       "      <td>2022</td>\n",
       "      <td>5275</td>\n",
       "      <td>0</td>\n",
       "      <td>30</td>\n",
       "      <td>30189</td>\n",
       "      <td>Nîmes</td>\n",
       "      <td>No Lieu-Dit</td>\n",
       "      <td>HD46K83</td>\n",
       "      <td>&lt;NA&gt;</td>\n",
       "      <td>0.05</td>\n",
       "      <td>2022-08-09</td>\n",
       "      <td>19:25:00</td>\n",
       "    </tr>\n",
       "    <tr>\n",
       "      <th>3</th>\n",
       "      <td>2022</td>\n",
       "      <td>5194</td>\n",
       "      <td>0</td>\n",
       "      <td>2B</td>\n",
       "      <td>2B123</td>\n",
       "      <td>Ghisonaccia</td>\n",
       "      <td>Foret De Pinia</td>\n",
       "      <td>NB88F8</td>\n",
       "      <td>&lt;NA&gt;</td>\n",
       "      <td>0.04</td>\n",
       "      <td>2022-08-09</td>\n",
       "      <td>11:13:00</td>\n",
       "    </tr>\n",
       "    <tr>\n",
       "      <th>4</th>\n",
       "      <td>2022</td>\n",
       "      <td>5268</td>\n",
       "      <td>0</td>\n",
       "      <td>30</td>\n",
       "      <td>30243</td>\n",
       "      <td>Saint-Christol-Lès-Alès</td>\n",
       "      <td>No Lieu-Dit</td>\n",
       "      <td>HD28K92</td>\n",
       "      <td>&lt;NA&gt;</td>\n",
       "      <td>0.5</td>\n",
       "      <td>2022-08-09</td>\n",
       "      <td>06:53:00</td>\n",
       "    </tr>\n",
       "    <tr>\n",
       "      <th>5</th>\n",
       "      <td>2022</td>\n",
       "      <td>5075</td>\n",
       "      <td>0</td>\n",
       "      <td>04</td>\n",
       "      <td>04152</td>\n",
       "      <td>Pierrevert</td>\n",
       "      <td>Impasse Saint Michel</td>\n",
       "      <td>KD66H6</td>\n",
       "      <td>3</td>\n",
       "      <td>0.1</td>\n",
       "      <td>2022-08-08</td>\n",
       "      <td>20:57:00</td>\n",
       "    </tr>\n",
       "    <tr>\n",
       "      <th>6</th>\n",
       "      <td>2022</td>\n",
       "      <td>5125</td>\n",
       "      <td>0</td>\n",
       "      <td>2B</td>\n",
       "      <td>2B366</td>\n",
       "      <td>Chisa</td>\n",
       "      <td>Via Ferratta</td>\n",
       "      <td>NB68K1</td>\n",
       "      <td>&lt;NA&gt;</td>\n",
       "      <td>0.0005</td>\n",
       "      <td>2022-08-08</td>\n",
       "      <td>18:36:00</td>\n",
       "    </tr>\n",
       "    <tr>\n",
       "      <th>7</th>\n",
       "      <td>2022</td>\n",
       "      <td>5124</td>\n",
       "      <td>0</td>\n",
       "      <td>2B</td>\n",
       "      <td>2B229</td>\n",
       "      <td>Pietroso</td>\n",
       "      <td>Punta Della Gavina</td>\n",
       "      <td>NC60G3</td>\n",
       "      <td>&lt;NA&gt;</td>\n",
       "      <td>0.0005</td>\n",
       "      <td>2022-08-08</td>\n",
       "      <td>18:03:00</td>\n",
       "    </tr>\n",
       "    <tr>\n",
       "      <th>8</th>\n",
       "      <td>2022</td>\n",
       "      <td>5122</td>\n",
       "      <td>0</td>\n",
       "      <td>2B</td>\n",
       "      <td>2B023</td>\n",
       "      <td>Asco</td>\n",
       "      <td>Piste Valentinu</td>\n",
       "      <td>NC42C6</td>\n",
       "      <td>&lt;NA&gt;</td>\n",
       "      <td>0.0005</td>\n",
       "      <td>2022-08-08</td>\n",
       "      <td>14:04:00</td>\n",
       "    </tr>\n",
       "    <tr>\n",
       "      <th>9</th>\n",
       "      <td>2022</td>\n",
       "      <td>5087</td>\n",
       "      <td>0</td>\n",
       "      <td>2B</td>\n",
       "      <td>2B124</td>\n",
       "      <td>Ghisoni</td>\n",
       "      <td>Marmano</td>\n",
       "      <td>NB68F8</td>\n",
       "      <td>&lt;NA&gt;</td>\n",
       "      <td>0.0001</td>\n",
       "      <td>2022-08-07</td>\n",
       "      <td>22:04:00</td>\n",
       "    </tr>\n",
       "  </tbody>\n",
       "</table>\n",
       "</div>"
      ],
      "text/plain": [
       "   Année  Numéro  Type_de_feu Département Code_INSEE                  Commune  \\\n",
       "0   2022    5307            0          04      04152               Pierrevert   \n",
       "1   2022    5277            0          06      06074                Lantosque   \n",
       "2   2022    5275            0          30      30189                    Nîmes   \n",
       "3   2022    5194            0          2B      2B123              Ghisonaccia   \n",
       "4   2022    5268            0          30      30243  Saint-Christol-Lès-Alès   \n",
       "5   2022    5075            0          04      04152               Pierrevert   \n",
       "6   2022    5125            0          2B      2B366                    Chisa   \n",
       "7   2022    5124            0          2B      2B229                 Pietroso   \n",
       "8   2022    5122            0          2B      2B023                     Asco   \n",
       "9   2022    5087            0          2B      2B124                  Ghisoni   \n",
       "\n",
       "               Lieu-dit Code_du_carreau_DFCI  Origine_de_l_alerte  \\\n",
       "0  Avenue De La Milière               KD66H7                    3   \n",
       "1        Saint Colomban               MD08A8                    3   \n",
       "2           No Lieu-Dit              HD46K83                 <NA>   \n",
       "3        Foret De Pinia               NB88F8                 <NA>   \n",
       "4           No Lieu-Dit              HD28K92                 <NA>   \n",
       "5  Impasse Saint Michel               KD66H6                    3   \n",
       "6          Via Ferratta               NB68K1                 <NA>   \n",
       "7    Punta Della Gavina               NC60G3                 <NA>   \n",
       "8       Piste Valentinu               NC42C6                 <NA>   \n",
       "9               Marmano               NB68F8                 <NA>   \n",
       "\n",
       "   Surface_parcourue        date     heure  \n",
       "0              0.005  2022-08-11  05:42:00  \n",
       "1              0.004  2022-08-10  15:02:00  \n",
       "2               0.05  2022-08-09  19:25:00  \n",
       "3               0.04  2022-08-09  11:13:00  \n",
       "4                0.5  2022-08-09  06:53:00  \n",
       "5                0.1  2022-08-08  20:57:00  \n",
       "6             0.0005  2022-08-08  18:36:00  \n",
       "7             0.0005  2022-08-08  18:03:00  \n",
       "8             0.0005  2022-08-08  14:04:00  \n",
       "9             0.0001  2022-08-07  22:04:00  "
      ]
     },
     "execution_count": 121,
     "metadata": {},
     "output_type": "execute_result"
    }
   ],
   "source": [
    "df.head(10)"
   ]
  },
  {
   "cell_type": "markdown",
   "id": "a9d88ef6",
   "metadata": {},
   "source": [
    "### Function that counts the number of fires per department "
   ]
  },
  {
   "cell_type": "code",
   "execution_count": 122,
   "id": "6326ab2f",
   "metadata": {},
   "outputs": [],
   "source": [
    "import numpy as np\n",
    "\n",
    "def function1():\n",
    "    dep = input('Enter the department on which you wanna count the number of fires:')\n",
    "    y = input('Enter the year associate:')\n",
    "    dep = str(dep)\n",
    "    y = int(y)\n",
    "    if (dep == 'all'):\n",
    "        return print('the total number of fires in France in the year', y, 'is :\\n', np.count_nonzero(df[\"Année\"] == y))\n",
    "    else :\n",
    "        return print('the total number of fires in France in the year', y, ' in the department ', dep, ' is :\\n', np.count_nonzero((df[\"Département\"] == dep) & (df[\"Année\"] == y)))"
   ]
  },
  {
   "cell_type": "code",
   "execution_count": 123,
   "id": "1e3e91b8",
   "metadata": {},
   "outputs": [
    {
     "name": "stdout",
     "output_type": "stream",
     "text": [
      "Enter the department on which you wanna count the number of fires:13\n",
      "Enter the year associate:2020\n",
      "the total number of fires in France in the year 2020  in the department  13  is :\n",
      " 244\n"
     ]
    }
   ],
   "source": [
    "function1()"
   ]
  },
  {
   "cell_type": "markdown",
   "id": "245bf4e8",
   "metadata": {},
   "source": [
    "### Function that compute the burnt area per department and year"
   ]
  },
  {
   "cell_type": "code",
   "execution_count": 124,
   "id": "d3ffb8f8",
   "metadata": {},
   "outputs": [],
   "source": [
    "def function2():\n",
    "    dep = input('Enter the department on which you wanna sum the burnt area:')\n",
    "    y = input('Enter the year associate:')\n",
    "    dep = str(dep)\n",
    "    y = int(y)\n",
    "    if (dep == 'all'):\n",
    "        return print('the burnt area total of the France in the year', y, 'is :\\n', df.loc[(df['Année'] == y), 'Surface_parcourue'].sum(), 'ha')\n",
    "    else:\n",
    "        return print('the burnt area total of the department', dep,'in the year', y, 'is :\\n', df.loc[(df['Année'] == y) & (df['Département'] == dep) , 'Surface_parcourue'].sum(), 'ha')\n",
    "    "
   ]
  },
  {
   "cell_type": "code",
   "execution_count": 67,
   "id": "d38d588b",
   "metadata": {},
   "outputs": [
    {
     "name": "stdout",
     "output_type": "stream",
     "text": [
      "Enter the department on which you wanna sum the burnt area:all\n",
      "Enter the year associate:2021\n",
      "the burnt area total of the France in the year 2021 is :\n",
      " 10606.330800000002 ha\n"
     ]
    }
   ],
   "source": [
    "function2()"
   ]
  },
  {
   "cell_type": "markdown",
   "id": "e46c28bb",
   "metadata": {},
   "source": [
    "### Function that asks the user for a department, and print the fires informations corresponding"
   ]
  },
  {
   "cell_type": "code",
   "execution_count": 68,
   "id": "44829fd5",
   "metadata": {},
   "outputs": [],
   "source": [
    "def function3():\n",
    "    dep = input('Enter the department on which you wanna see some descriptive statistics of the burnt area:')\n",
    "    y = input('Enter the year associate:')\n",
    "    dep = str(dep)\n",
    "    y = int(y)\n",
    "    if (dep == 'all'):\n",
    "        return print('The Q1, median, Q3 of the burnt area in France of the year', y, 'is :\\n', df.loc[df['Année'] == y, 'Surface_parcourue'].quantile(q=[0.25, 0.5, 0.75]), '\\n\\nThe mean of the same year is :\\n', df.loc[df['Année'] == y, 'Surface_parcourue'].mean(), 'ha')\n",
    "    else:\n",
    "        return print('The Q1, median, Q3 of the burnt area in the department', dep, 'of the year', y, 'is :\\n', df.loc[(df['Année'] == y) & (df['Département']== dep), 'Surface_parcourue'].quantile(q=[0.25, 0.5, 0.75]),'\\n\\nThe mean of the same department and year is :\\n', df.loc[(df['Année'] == y) & (df['Département']== dep), 'Surface_parcourue'].mean(), 'ha')"
   ]
  },
  {
   "cell_type": "code",
   "execution_count": 69,
   "id": "99137b91",
   "metadata": {},
   "outputs": [
    {
     "name": "stdout",
     "output_type": "stream",
     "text": [
      "Enter the department on which you wanna see some descriptive statistics of the burnt area:13\n",
      "Enter the year associate:2002\n",
      "The Q1, median, Q3 of the burnt area in the department 13 of the year 2002 is :\n",
      " 0.25    0.01\n",
      "0.50    0.05\n",
      "0.75     0.3\n",
      "Name: Surface_parcourue, dtype: Float64 \n",
      "\n",
      "The mean of the same department and year is :\n",
      " 1.622348128342246 ha\n"
     ]
    }
   ],
   "source": [
    "function3()\n"
   ]
  },
  {
   "cell_type": "code",
   "execution_count": 129,
   "id": "1f17ce39",
   "metadata": {},
   "outputs": [],
   "source": [
    "def function2b(dep, y):\n",
    "    return df.loc[(df['Année'] == y) & (df['Département'] == dep) , 'Surface_parcourue'].sum()"
   ]
  },
  {
   "cell_type": "code",
   "execution_count": 130,
   "id": "779728d6",
   "metadata": {},
   "outputs": [
    {
     "data": {
      "text/plain": [
       "1375.4279999999999"
      ]
     },
     "execution_count": 130,
     "metadata": {},
     "output_type": "execute_result"
    }
   ],
   "source": [
    "function2b('13', 2000)"
   ]
  },
  {
   "cell_type": "code",
   "execution_count": null,
   "id": "f147a2e5",
   "metadata": {},
   "outputs": [],
   "source": []
  },
  {
   "cell_type": "code",
   "execution_count": 152,
   "id": "0aab3f0e",
   "metadata": {},
   "outputs": [],
   "source": [
    "import matplotlib\n",
    "import matplotlib.pyplot as plt\n",
    "\n",
    "def function22():\n",
    "    dep = input('Enter the department on which you wanna sum the evolution of the burnt area:')\n",
    "    dep = str(dep)\n",
    "    for y in range(2000, 2023):\n",
    "        plot = plt.scatter(y, function2b(dep, y), color = 'orange')\n",
    "    plt.xlabel(\"year\")\n",
    "    plt.ylabel(\"area burnt in ha\")\n",
    "    chemin2 = print('C:/Users/33698/Documents/M2 EBDS/cours/data/',dep,'_graph_over_years.jpg')\n",
    "    plt.savefig(str(chemin2))\n",
    "    return plot"
   ]
  },
  {
   "cell_type": "code",
   "execution_count": 153,
   "id": "8fc7db8f",
   "metadata": {},
   "outputs": [
    {
     "name": "stdout",
     "output_type": "stream",
     "text": [
      "Enter the department on which you wanna sum the evolution of the burnt area:13\n",
      "C:/Users/33698/Documents/M2 EBDS/cours/data/ 13 _graph_over_years.jpg\n",
      "None\n"
     ]
    },
    {
     "data": {
      "text/plain": [
       "<matplotlib.collections.PathCollection at 0x1316daab460>"
      ]
     },
     "execution_count": 153,
     "metadata": {},
     "output_type": "execute_result"
    },
    {
     "data": {
      "image/png": "[encoded data removed]",
      "text/plain": [
       "<Figure size 432x288 with 1 Axes>"
      ]
     },
     "metadata": {
      "needs_background": "light"
     },
     "output_type": "display_data"
    }
   ],
   "source": [
    "function22()"
   ]
  },
  {
   "cell_type": "code",
   "execution_count": 8,
   "id": "3db9aea4",
   "metadata": {},
   "outputs": [
    {
     "name": "stdout",
     "output_type": "stream",
     "text": [
      "Enter the department on which you wanna sum the burnt area:30\n",
      "Enter the year associate:2017\n",
      "the burnt area total of the department 30 in the year 2017 is :\n",
      " 548.4858 ha\n"
     ]
    }
   ],
   "source": [
    "import Documents.M2_EBDS.cours.mypythonlib.myfunctions as mf\n",
    "\n",
    "mf.function2()"
   ]
  },
  {
   "cell_type": "code",
   "execution_count": 9,
   "id": "ae89649b",
   "metadata": {},
   "outputs": [
    {
     "name": "stdout",
     "output_type": "stream",
     "text": [
      "Enter the department on which you wanna count the number of fires:13\n",
      "Enter the year associate:2003\n",
      "the total number of fires in France in the year 2003  in the department  13  is :\n",
      " 350\n"
     ]
    }
   ],
   "source": [
    "mf.function1()"
   ]
  },
  {
   "cell_type": "code",
   "execution_count": 10,
   "id": "a91d4eee",
   "metadata": {},
   "outputs": [
    {
     "name": "stdout",
     "output_type": "stream",
     "text": [
      "Enter the department on which you wanna see some descriptive statistics of the burnt area:84\n",
      "Enter the year associate:2010\n",
      "The Q1, median, Q3 of the burnt area in the department 84 of the year 2010 is :\n",
      " 0.25    0.1\n",
      "0.50    0.2\n",
      "0.75    0.3\n",
      "Name: Surface_parcourue, dtype: Float64 \n",
      "\n",
      "The mean of the same department and year is :\n",
      " 0.2854 ha\n"
     ]
    }
   ],
   "source": [
    "mf.function3()"
   ]
  }
 ],
 "metadata": {
  "kernelspec": {
   "display_name": "Python 3 (ipykernel)",
   "language": "python",
   "name": "python3"
  },
  "language_info": {
   "codemirror_mode": {
    "name": "ipython",
    "version": 3
   },
   "file_extension": ".py",
   "mimetype": "text/x-python",
   "name": "python",
   "nbconvert_exporter": "python",
   "pygments_lexer": "ipython3",
   "version": "3.9.13"
  }
 },
 "nbformat": 4,
 "nbformat_minor": 5
}
